{
 "cells": [
  {
   "cell_type": "markdown",
   "metadata": {},
   "source": [
    "# Examples using `vitae`"
   ]
  },
  {
   "cell_type": "code",
   "execution_count": 11,
   "metadata": {},
   "outputs": [],
   "source": [
    "import vitae"
   ]
  },
  {
   "cell_type": "code",
   "execution_count": 12,
   "metadata": {
    "scrolled": false
   },
   "outputs": [
    {
     "name": "stdout",
     "output_type": "stream",
     "text": [
      "Help on function formatted_bibs in module vitae.vitae:\n",
      "\n",
      "formatted_bibs(bibfile, bibliographystyle='plain')\n",
      "    Make a dictionary of formatted bibs.\n",
      "    \n",
      "    Parameters\n",
      "    ----------\n",
      "    bibfile : string\n",
      "        full path and file name to the .bib file\n",
      "    bibliographystyle : string (optional)\n",
      "        bst (bib style file) to use. Default: 'plain'\n",
      "    \n",
      "    Returns\n",
      "    -------\n",
      "    formattedbibs : dictionary of strings\n",
      "        dictionary of formatted citations with Cite keys as keys.\n",
      "    bibs : array\n",
      "        bibfile array from bibtexparser\n",
      "\n"
     ]
    }
   ],
   "source": [
    "help(vitae.formatted_bibs)"
   ]
  },
  {
   "cell_type": "code",
   "execution_count": 13,
   "metadata": {},
   "outputs": [],
   "source": [
    "# I don't need output to a variable. \n",
    "# This notebook is in the same folder as my cv.tex file, next to my cv.bib file. \n",
    "# My cv.bib file includes the lines per the readme file. \n",
    "_ = vitae.makemycv(silent = True)"
   ]
  },
  {
   "cell_type": "code",
   "execution_count": 15,
   "metadata": {},
   "outputs": [
    {
     "name": "stdout",
     "output_type": "stream",
     "text": [
      "Help on function write_bibs in module vitae.vitae:\n",
      "\n",
      "write_bibs(bibfile=None, bibliographystyle='plain', outfile_name=None, since_year=None, number_citations=None, bibtex_type='articles', write_over=False, authorname=None, outputformat=None, silent=False, standalone=True, overwrite=False)\n",
      "    Write formatted bibs from bibfile to desired format.\n",
      "    \n",
      "    Parameters\n",
      "    ----------\n",
      "    bibfile : string\n",
      "        full path and file name to the .bib file\n",
      "    bibliographystyle : string (optional)\n",
      "        bst (bib style file) to use. Default: 'plain'.\n",
      "    outfile_name : string (optional)\n",
      "        name of output file. Default bibfile name with .tex extension. Default\n",
      "        output format is html.\n",
      "    since_year : integer (optional)\n",
      "        year of oldest citation to include. Default: All years.\n",
      "    number_citations : integer (optional)\n",
      "        maximum number of citations to include. Default: all.\n",
      "    entrytypes : tuple of strings (optional)\n",
      "        list of types of entries to include. Default: ('articles')\n",
      "    authorname : string (optional)\n",
      "        author whos papers to include. Default: all.\n",
      "    silent : Boolean (optional)\n",
      "        display diagnostics. Default: False (will display diagnostics)\n",
      "    standalone : Boolean (optional)\n",
      "        By default, pandoc generates only a fragment. If you want a full\n",
      "        document set this to False. Default: True\n",
      "    overwrite : Boolean (optional)\n",
      "        Overwrite results files? Default: False\n",
      "\n"
     ]
    }
   ],
   "source": [
    "# If you want a bunch of your papers formatted and put into a particular format, try this:\n",
    "help(vitae.write_bibs)"
   ]
  },
  {
   "cell_type": "code",
   "execution_count": 16,
   "metadata": {},
   "outputs": [],
   "source": [
    "vitae.write_bibs(bibfile = '/Users/jslater/Documents/Resumes/cv.bib', \n",
    "                 bibliographystyle='aiaa', \n",
    "                 outfile_name='try.html', \n",
    "                 since_year=2008)\n"
   ]
  },
  {
   "cell_type": "markdown",
   "metadata": {},
   "source": [
    "## Experimentation with fuzzywuzzy for name matching. \n"
   ]
  },
  {
   "cell_type": "code",
   "execution_count": 23,
   "metadata": {},
   "outputs": [],
   "source": [
    "from fuzzywuzzy import fuzz\n"
   ]
  },
  {
   "cell_type": "code",
   "execution_count": 27,
   "metadata": {},
   "outputs": [
    {
     "data": {
      "text/plain": [
       "69"
      ]
     },
     "execution_count": 27,
     "metadata": {},
     "output_type": "execute_result"
    }
   ],
   "source": [
    "fuzz.ratio('Slater, Joseph C.','Slater, J')"
   ]
  },
  {
   "cell_type": "code",
   "execution_count": 26,
   "metadata": {},
   "outputs": [
    {
     "data": {
      "text/plain": [
       "69"
      ]
     },
     "execution_count": 26,
     "metadata": {},
     "output_type": "execute_result"
    }
   ],
   "source": [
    "fuzz.ratio('Slater, J', 'Slater, Joseph C.')"
   ]
  },
  {
   "cell_type": "code",
   "execution_count": 28,
   "metadata": {},
   "outputs": [],
   "source": [
    "authorname = 'Slater, Joseph C.'"
   ]
  },
  {
   "cell_type": "markdown",
   "metadata": {},
   "source": [
    "## Preference file"
   ]
  },
  {
   "cell_type": "code",
   "execution_count": 1,
   "metadata": {},
   "outputs": [],
   "source": [
    "from appdirs import *"
   ]
  },
  {
   "cell_type": "code",
   "execution_count": 3,
   "metadata": {},
   "outputs": [],
   "source": [
    "appname = 'vitae'\n",
    "appauthor = \"Joseph C. Slater\""
   ]
  },
  {
   "cell_type": "code",
   "execution_count": 35,
   "metadata": {},
   "outputs": [
    {
     "data": {
      "text/plain": [
       "'/Users/jslater/.login/share/'"
      ]
     },
     "execution_count": 35,
     "metadata": {},
     "output_type": "execute_result"
    }
   ],
   "source": [
    "homedir = user_data_dir(appname, appauthor)\n",
    "homedir = homedir.split('/')\n",
    "if os.name =='posix':\n",
    "    homedir = r'/' + homedir[1] + r'/' + homedir[2] + r'/.login/share/' \n",
    "homedir"
   ]
  },
  {
   "cell_type": "code",
   "execution_count": 36,
   "metadata": {},
   "outputs": [
    {
     "data": {
      "text/plain": [
       "<function appdirs.user_data_dir(appname=None, appauthor=None, version=None, roaming=False)>"
      ]
     },
     "execution_count": 36,
     "metadata": {},
     "output_type": "execute_result"
    }
   ],
   "source": [
    "user_data_dir"
   ]
  },
  {
   "cell_type": "code",
   "execution_count": 7,
   "metadata": {
    "collapsed": true
   },
   "outputs": [
    {
     "data": {
      "text/plain": [
       "['AppDirs',\n",
       " 'In',\n",
       " 'NamespaceMagics',\n",
       " 'Out',\n",
       " 'PY3',\n",
       " '_',\n",
       " '_4',\n",
       " '_5',\n",
       " '_Jupyter',\n",
       " '__',\n",
       " '___',\n",
       " '__builtin__',\n",
       " '__builtins__',\n",
       " '__doc__',\n",
       " '__loader__',\n",
       " '__name__',\n",
       " '__package__',\n",
       " '__spec__',\n",
       " '_dh',\n",
       " '_getshapeof',\n",
       " '_getsizeof',\n",
       " '_i',\n",
       " '_i1',\n",
       " '_i2',\n",
       " '_i3',\n",
       " '_i4',\n",
       " '_i5',\n",
       " '_i6',\n",
       " '_i7',\n",
       " '_ih',\n",
       " '_ii',\n",
       " '_iii',\n",
       " '_nms',\n",
       " '_oh',\n",
       " 'appauthor',\n",
       " 'appname',\n",
       " 'autopep8',\n",
       " 'exit',\n",
       " 'get_ipython',\n",
       " 'getsizeof',\n",
       " 'json',\n",
       " 'np',\n",
       " 'os',\n",
       " 'quit',\n",
       " 'site_config_dir',\n",
       " 'site_data_dir',\n",
       " 'sys',\n",
       " 'system',\n",
       " 'unicode',\n",
       " 'user_cache_dir',\n",
       " 'user_config_dir',\n",
       " 'user_data_dir',\n",
       " 'user_log_dir',\n",
       " 'user_state_dir',\n",
       " 'var_dic_list',\n",
       " 'yapf_reformat']"
      ]
     },
     "execution_count": 7,
     "metadata": {},
     "output_type": "execute_result"
    }
   ],
   "source": [
    "dir()"
   ]
  },
  {
   "cell_type": "code",
   "execution_count": 8,
   "metadata": {},
   "outputs": [
    {
     "data": {
      "text/plain": [
       "appdirs.AppDirs"
      ]
     },
     "execution_count": 8,
     "metadata": {},
     "output_type": "execute_result"
    }
   ],
   "source": [
    "AppDirs"
   ]
  },
  {
   "cell_type": "code",
   "execution_count": 9,
   "metadata": {},
   "outputs": [
    {
     "data": {
      "text/plain": [
       "<module 'os' from '/Users/jslater/anaconda3/envs/latest/lib/python3.7/os.py'>"
      ]
     },
     "execution_count": 9,
     "metadata": {},
     "output_type": "execute_result"
    }
   ],
   "source": [
    "os"
   ]
  },
  {
   "cell_type": "code",
   "execution_count": 10,
   "metadata": {},
   "outputs": [
    {
     "data": {
      "text/plain": [
       "'posix'"
      ]
     },
     "execution_count": 10,
     "metadata": {},
     "output_type": "execute_result"
    }
   ],
   "source": [
    "os.name"
   ]
  },
  {
   "cell_type": "code",
   "execution_count": 14,
   "metadata": {},
   "outputs": [
    {
     "data": {
      "text/plain": [
       "<module 'platform' from '/Users/jslater/anaconda3/envs/latest/lib/python3.7/platform.py'>"
      ]
     },
     "execution_count": 14,
     "metadata": {},
     "output_type": "execute_result"
    }
   ],
   "source": [
    "import platform\n",
    "platform"
   ]
  },
  {
   "cell_type": "code",
   "execution_count": 1,
   "metadata": {},
   "outputs": [
    {
     "ename": "TypeError",
     "evalue": "unsupported operand type(s) for +: 'NoneType' and 'str'",
     "output_type": "error",
     "traceback": [
      "\u001b[0;31m---------------------------------------------------------------------------\u001b[0m",
      "\u001b[0;31mTypeError\u001b[0m                                 Traceback (most recent call last)",
      "\u001b[0;32m<ipython-input-1-e05e42e0a905>\u001b[0m in \u001b[0;36m<module>\u001b[0;34m\u001b[0m\n\u001b[0;32m----> 1\u001b[0;31m \u001b[0;32mNone\u001b[0m \u001b[0;34m+\u001b[0m \u001b[0;34m'/Users/jslater/.login'\u001b[0m\u001b[0;34m\u001b[0m\u001b[0;34m\u001b[0m\u001b[0m\n\u001b[0m",
      "\u001b[0;31mTypeError\u001b[0m: unsupported operand type(s) for +: 'NoneType' and 'str'"
     ]
    }
   ],
   "source": [
    "None + '/Users/jslater/.login'"
   ]
  },
  {
   "cell_type": "code",
   "execution_count": 4,
   "metadata": {},
   "outputs": [],
   "source": [
    "import os"
   ]
  },
  {
   "cell_type": "code",
   "execution_count": 7,
   "metadata": {},
   "outputs": [
    {
     "data": {
      "text/plain": [
       "False"
      ]
     },
     "execution_count": 7,
     "metadata": {},
     "output_type": "execute_result"
    }
   ],
   "source": [
    "not os.path.isdir('/Users/jslater')"
   ]
  },
  {
   "cell_type": "code",
   "execution_count": null,
   "metadata": {},
   "outputs": [],
   "source": []
  }
 ],
 "metadata": {
  "kernelspec": {
   "display_name": "Python 3",
   "language": "python",
   "name": "python3"
  },
  "language_info": {
   "codemirror_mode": {
    "name": "ipython",
    "version": 3
   },
   "file_extension": ".py",
   "mimetype": "text/x-python",
   "name": "python",
   "nbconvert_exporter": "python",
   "pygments_lexer": "ipython3",
   "version": "3.7.3"
  },
  "latex_envs": {
   "LaTeX_envs_menu_present": true,
   "autoclose": false,
   "autocomplete": true,
   "bibliofile": "biblio.bib",
   "cite_by": "apalike",
   "current_citInitial": 1,
   "eqLabelWithNumbers": true,
   "eqNumInitial": 1,
   "hotkeys": {
    "equation": "Ctrl-E",
    "itemize": "Ctrl-I"
   },
   "labels_anchors": false,
   "latex_user_defs": false,
   "report_style_numbering": false,
   "user_envs_cfg": false
  },
  "toc": {
   "base_numbering": 1,
   "nav_menu": {
    "height": "184px",
    "width": "297px"
   },
   "number_sections": true,
   "sideBar": true,
   "skip_h1_title": false,
   "title_cell": "Table of Contents",
   "title_sidebar": "Contents",
   "toc_cell": false,
   "toc_position": {},
   "toc_section_display": true,
   "toc_window_display": false
  },
  "varInspector": {
   "cols": {
    "lenName": 16,
    "lenType": 16,
    "lenVar": 40
   },
   "kernels_config": {
    "python": {
     "delete_cmd_postfix": "",
     "delete_cmd_prefix": "del ",
     "library": "var_list.py",
     "varRefreshCmd": "print(var_dic_list())"
    },
    "r": {
     "delete_cmd_postfix": ") ",
     "delete_cmd_prefix": "rm(",
     "library": "var_list.r",
     "varRefreshCmd": "cat(var_dic_list()) "
    }
   },
   "types_to_exclude": [
    "module",
    "function",
    "builtin_function_or_method",
    "instance",
    "_Feature"
   ],
   "window_display": false
  }
 },
 "nbformat": 4,
 "nbformat_minor": 2
}
