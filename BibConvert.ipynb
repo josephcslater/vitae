{
 "cells": [
  {
   "cell_type": "markdown",
   "metadata": {},
   "source": [
    "# Examples using `vitae`"
   ]
  },
  {
   "cell_type": "code",
   "execution_count": 10,
   "metadata": {},
   "outputs": [],
   "source": [
    "# This may not be necessary any longer. \n",
    "# import bibtexparser\n",
    "# import tempfile\n",
    "# from bibtexparser.bparser import BibTexParser\n",
    "# from bibtexparser.customization import homogenize_latex_encoding\n",
    "# import os"
   ]
  },
  {
   "cell_type": "code",
   "execution_count": 11,
   "metadata": {},
   "outputs": [],
   "source": [
    "import vitae\n"
   ]
  },
  {
   "cell_type": "code",
   "execution_count": 12,
   "metadata": {
    "scrolled": true
   },
   "outputs": [
    {
     "name": "stdout",
     "output_type": "stream",
     "text": [
      "Help on function formatted_bibs in module vitae.vitae:\n",
      "\n",
      "formatted_bibs(bibfile, bibliographystyle='plain')\n",
      "    Make a dictionary of formatted bibs.\n",
      "    \n",
      "    Parameters\n",
      "    ----------\n",
      "    bibfile : string\n",
      "        full path and file name to the .bib file\n",
      "    bibliographystyle : string (optional)\n",
      "        bst (bib style file) to use. Default: 'plain'\n",
      "    \n",
      "    Returns\n",
      "    -------\n",
      "    formattedbibs : dictionary of strings\n",
      "        dictionary of formatted citations with Cite keys as keys.\n",
      "    bibs : array\n",
      "        bibfile array from bibtexparser\n",
      "\n"
     ]
    }
   ],
   "source": [
    "help(vitae.formatted_bibs)"
   ]
  },
  {
   "cell_type": "code",
   "execution_count": 13,
   "metadata": {},
   "outputs": [],
   "source": [
    "# I don't need output to a variable. \n",
    "# This notebook is in the same folder as my cv.tex file, next to my cv.bib file. \n",
    "# My cv.bib file includes the lines per the readme file. \n",
    "_ = vitae.makemycv(silent = True)"
   ]
  },
  {
   "cell_type": "code",
   "execution_count": 15,
   "metadata": {},
   "outputs": [
    {
     "name": "stdout",
     "output_type": "stream",
     "text": [
      "Help on function write_bibs in module vitae.vitae:\n",
      "\n",
      "write_bibs(bibfile=None, bibliographystyle='plain', outfile_name=None, since_year=None, number_citations=None, bibtex_type='articles', write_over=False, authorname=None, outputformat=None, silent=False, standalone=True, overwrite=False)\n",
      "    Write formatted bibs from bibfile to desired format.\n",
      "    \n",
      "    Parameters\n",
      "    ----------\n",
      "    bibfile : string\n",
      "        full path and file name to the .bib file\n",
      "    bibliographystyle : string (optional)\n",
      "        bst (bib style file) to use. Default: 'plain'.\n",
      "    outfile_name : string (optional)\n",
      "        name of output file. Default bibfile name with .tex extension. Default\n",
      "        output format is html.\n",
      "    since_year : integer (optional)\n",
      "        year of oldest citation to include. Default: All years.\n",
      "    number_citations : integer (optional)\n",
      "        maximum number of citations to include. Default: all.\n",
      "    entrytypes : tuple of strings (optional)\n",
      "        list of types of entries to include. Default: ('articles')\n",
      "    authorname : string (optional)\n",
      "        author whos papers to include. Default: all.\n",
      "    silent : Boolean (optional)\n",
      "        display diagnostics. Default: False (will display diagnostics)\n",
      "    standalone : Boolean (optional)\n",
      "        By default, pandoc generates only a fragment. If you want a full\n",
      "        document set this to False. Default: True\n",
      "    overwrite : Boolean (optional)\n",
      "        Overwrite results files? Default: False\n",
      "\n"
     ]
    }
   ],
   "source": [
    "# If you want a bunch of your papers formatted and put into a particular format, try this:\n",
    "help(vitae.write_bibs)"
   ]
  },
  {
   "cell_type": "code",
   "execution_count": 16,
   "metadata": {},
   "outputs": [],
   "source": [
    "vitae.write_bibs(bibfile = '/Users/jslater/Documents/Resumes/cv.bib', \n",
    "                 bibliographystyle='aiaa', \n",
    "                 outfile_name='try.html', \n",
    "                 since_year=2008)\n"
   ]
  },
  {
   "cell_type": "markdown",
   "metadata": {},
   "source": [
    "## Experimentation with fuzzywuzzy for name matching. \n"
   ]
  },
  {
   "cell_type": "code",
   "execution_count": 23,
   "metadata": {},
   "outputs": [],
   "source": [
    "from fuzzywuzzy import fuzz\n"
   ]
  },
  {
   "cell_type": "code",
   "execution_count": 27,
   "metadata": {},
   "outputs": [
    {
     "data": {
      "text/plain": [
       "69"
      ]
     },
     "execution_count": 27,
     "metadata": {},
     "output_type": "execute_result"
    }
   ],
   "source": [
    "fuzz.ratio('Slater, Joseph C.','Slater, J')"
   ]
  },
  {
   "cell_type": "code",
   "execution_count": 26,
   "metadata": {},
   "outputs": [
    {
     "data": {
      "text/plain": [
       "69"
      ]
     },
     "execution_count": 26,
     "metadata": {},
     "output_type": "execute_result"
    }
   ],
   "source": [
    "fuzz.ratio('Slater, J', 'Slater, Joseph C.')"
   ]
  },
  {
   "cell_type": "code",
   "execution_count": 28,
   "metadata": {},
   "outputs": [],
   "source": [
    "authorname = 'Slater, Joseph C.'"
   ]
  }
 ],
 "metadata": {
  "kernelspec": {
   "display_name": "Python 3",
   "language": "python",
   "name": "python3"
  },
  "language_info": {
   "codemirror_mode": {
    "name": "ipython",
    "version": 3
   },
   "file_extension": ".py",
   "mimetype": "text/x-python",
   "name": "python",
   "nbconvert_exporter": "python",
   "pygments_lexer": "ipython3",
   "version": "3.7.2"
  },
  "latex_envs": {
   "LaTeX_envs_menu_present": true,
   "autoclose": false,
   "autocomplete": true,
   "bibliofile": "biblio.bib",
   "cite_by": "apalike",
   "current_citInitial": 1,
   "eqLabelWithNumbers": true,
   "eqNumInitial": 1,
   "hotkeys": {
    "equation": "Ctrl-E",
    "itemize": "Ctrl-I"
   },
   "labels_anchors": false,
   "latex_user_defs": false,
   "report_style_numbering": false,
   "user_envs_cfg": false
  },
  "toc": {
   "base_numbering": 1,
   "nav_menu": {
    "height": "184px",
    "width": "297px"
   },
   "number_sections": true,
   "sideBar": true,
   "skip_h1_title": false,
   "title_cell": "Table of Contents",
   "title_sidebar": "Contents",
   "toc_cell": false,
   "toc_position": {},
   "toc_section_display": true,
   "toc_window_display": false
  },
  "varInspector": {
   "cols": {
    "lenName": 16,
    "lenType": 16,
    "lenVar": 40
   },
   "kernels_config": {
    "python": {
     "delete_cmd_postfix": "",
     "delete_cmd_prefix": "del ",
     "library": "var_list.py",
     "varRefreshCmd": "print(var_dic_list())"
    },
    "r": {
     "delete_cmd_postfix": ") ",
     "delete_cmd_prefix": "rm(",
     "library": "var_list.r",
     "varRefreshCmd": "cat(var_dic_list()) "
    }
   },
   "types_to_exclude": [
    "module",
    "function",
    "builtin_function_or_method",
    "instance",
    "_Feature"
   ],
   "window_display": false
  }
 },
 "nbformat": 4,
 "nbformat_minor": 2
}
